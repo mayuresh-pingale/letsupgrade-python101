{
 "cells": [
  {
   "cell_type": "markdown",
   "metadata": {},
   "source": [
    "# question 1\n"
   ]
  },
  {
   "cell_type": "code",
   "execution_count": 12,
   "metadata": {},
   "outputs": [
    {
     "name": "stdout",
     "output_type": "stream",
     "text": [
      "I Love LetsUpgradeMee too\n"
     ]
    }
   ],
   "source": [
    "a = open(\"a new file\",\"w\")\n",
    "a.write(\"I Love LetsUpgrade\")\n",
    "a.close()\n",
    "a=open(\"a new file\",\"a\")\n",
    "a.write(\"Mee too\")\n",
    "a.close()\n",
    "a = open(\"a new file\",\"r\")\n",
    "print(a.read())\n",
    "a.close()"
   ]
  },
  {
   "cell_type": "markdown",
   "metadata": {},
   "source": [
    "# question 2"
   ]
  },
  {
   "cell_type": "code",
   "execution_count": 20,
   "metadata": {},
   "outputs": [
    {
     "name": "stdout",
     "output_type": "stream",
     "text": [
      "enter number 6\n",
      "factorial is  720\n"
     ]
    }
   ],
   "source": [
    "a = int(input(\"enter number \"))\n",
    "fact=1\n",
    "for i in range(1,a+1):\n",
    "    fact =fact*i \n",
    "print(\"factorial is \",fact)"
   ]
  }
 ],
 "metadata": {
  "kernelspec": {
   "display_name": "Python 3",
   "language": "python",
   "name": "python3"
  },
  "language_info": {
   "codemirror_mode": {
    "name": "ipython",
    "version": 3
   },
   "file_extension": ".py",
   "mimetype": "text/x-python",
   "name": "python",
   "nbconvert_exporter": "python",
   "pygments_lexer": "ipython3",
   "version": "3.9.0"
  }
 },
 "nbformat": 4,
 "nbformat_minor": 4
}
